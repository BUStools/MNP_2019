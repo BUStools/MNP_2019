{
 "cells": [
  {
   "cell_type": "code",
   "execution_count": null,
   "metadata": {},
   "outputs": [],
   "source": [
    "import matplotlib\n",
    "import numpy as np\n",
    "import matplotlib.pyplot as plt\n",
    "import sys, collections, os, argparse\n",
    "%matplotlib inline  \n",
    "%config InlineBackend.figure_format = 'retina'\n"
   ]
  },
  {
   "cell_type": "markdown",
   "metadata": {},
   "source": [
    "# Download the 10x Dataset `6k 1:1 Mixture of Fresh Frozen Human (HEK293T) and Mouse (NIH3T3) Cells`\n",
    "\n",
    "10x datasets are available at\n",
    "https://support.10xgenomics.com/single-cell-gene-expression/datasets\n",
    "\n",
    "The page for the `6k 1:1 Mixture of Fresh Frozen Human (HEK293T) and Mouse (NIH3T3) Cells` dataset is\n",
    "https://support.10xgenomics.com/single-cell-gene-expression/datasets/2.1.0/hgmm_6k\n",
    "\n",
    "The FASTQ files (38G) can be downloaded with `curl` directly from http://http://s3-us-west-2.amazonaws.com/10x.files/samples/cell-exp/2.1.0/hgmm_6k/hgmm_6k_fastqs.tar\n",
    "\n",
    "In the cell below we check if the dataset file `hgmm_6k_fastqs.tar` already exists. If not we download the dataset to the same directory as this notebook\n"
   ]
  },
  {
   "cell_type": "code",
   "execution_count": null,
   "metadata": {},
   "outputs": [],
   "source": [
    "#Check if the file was downloaded already before doing curl:\n",
    "if not (os.path.isfile('./hgmm_6k_fastqs.tar')): \n",
    "    # the `!` means we're running a command line statement (rather than python)  \n",
    "    !curl -O http://s3-us-west-2.amazonaws.com/10x.files/samples/cell-exp/2.1.0/hgmm_6k/hgmm_6k_fastqs.tar\n",
    "else: print('Dataset already downloaded!')"
   ]
  },
  {
   "cell_type": "markdown",
   "metadata": {},
   "source": [
    "## untar the fastq files on hgmm_6k_fastqs folder\n",
    "Note that this dataset was sequenced from 8 10x lanes (L001-L008).\n",
    "Hence it has 24 files: read 1 (R1), read 2 (R1), and index (I1) for each lane "
   ]
  },
  {
   "cell_type": "code",
   "execution_count": null,
   "metadata": {},
   "outputs": [],
   "source": [
    "!tar -xvf ./hgmm_6k_fastqs.tar"
   ]
  },
  {
   "cell_type": "markdown",
   "metadata": {},
   "source": [
    "# Buiding the kallisto index\n",
    "\n",
    "First make sure that kallisto is installed and the version is greater than 0.45\n",
    "\n",
    "If it's not installed, see instructions at https://pachterlab.github.io/kallisto/download"
   ]
  },
  {
   "cell_type": "code",
   "execution_count": null,
   "metadata": {},
   "outputs": [],
   "source": [
    "!kallisto version "
   ]
  },
  {
   "cell_type": "markdown",
   "metadata": {},
   "source": [
    "First we build the kallisto index for the dataset. \n",
    "For this index in particular, because this is a species mixing experiment, we have to download the human and mouse transcriptome, concatenate them, and then build the index.\n",
    "Building the index takes a few minutes and needs to be done only once.\n",
    "\n",
    "### Download human and mouse reference transcriptomes from ensembl\n",
    "In order to do that we first download the human and mouse transcriptomes from ensembl. You can see the reference genomes they have at https://uswest.ensembl.org/info/data/ftp/index.html"
   ]
  },
  {
   "cell_type": "code",
   "execution_count": null,
   "metadata": {},
   "outputs": [],
   "source": [
    "#Check if the file was downloaded already before doing curl:\n",
    "if not (os.path.isfile('Mus_musculus.GRCm38.cdna.all.fa.gz')): \n",
    "    # the `!` means we're running a command line statement (rather than python)  \n",
    "    !curl -O ftp://ftp.ensembl.org/pub/release-94/fasta/mus_musculus/cdna/Mus_musculus.GRCm38.cdna.all.fa.gz\n",
    "else: print('Mouse transcriptome already downloaded!')\n",
    "\n",
    "if not (os.path.isfile('Homo_sapiens.GRCh38.cdna.all.fa.gz')): \n",
    "    # the `!` means we're running a command line statement (rather than python)  \n",
    "    !curl -O ftp://ftp.ensembl.org/pub/release-94/fasta/homo_sapiens/cdna/Homo_sapiens.GRCh38.cdna.all.fa.gz\n",
    "else: print('Human transcriptome already downloaded!')\n"
   ]
  },
  {
   "cell_type": "code",
   "execution_count": null,
   "metadata": {},
   "outputs": [],
   "source": [
    "#concatenate the human and mouse transcriptomes\n",
    "!zcat Homo_sapiens.GRCh38.cdna.all.fa.gz Mus_musculus.GRCm38.cdna.all.fa.gz | gzip -1 - > human_mouse_contatenated_transcriptome.fa.gz\n",
    "print('Human and mouse transcriptomes concatenated!')"
   ]
  },
  {
   "cell_type": "code",
   "execution_count": null,
   "metadata": {},
   "outputs": [],
   "source": [
    "### Now we can build the index\n",
    "if not (os.path.isfile('human_mouse_transcriptome_index.idx')): \n",
    "    !kallisto index -i human_mouse_transcriptome_index.idx human_mouse_contatenated_transcriptome.fa.gz\n",
    "else: print ('Human-mouse transcript index already exist!')"
   ]
  },
  {
   "cell_type": "markdown",
   "metadata": {},
   "source": [
    "# Preparing transcript_to_gene.tsv file process the single cell data with kallisto bus"
   ]
  },
  {
   "cell_type": "markdown",
   "metadata": {},
   "source": [
    "Depending on which transcriptome you used, you will need to create a file translating transcripts to genes. This notebook assumes the file is in `transcript_to_gene.tsv`, for ensembl transcriptomes these can be generated using biomart.\n",
    "\n",
    "The general format of `transcript_to_gene.tsv` is\n",
    "\n",
    "```\n",
    "ENST00000632684.1\tENSG00000282431.1\n",
    "ENST00000434970.2\tENSG00000237235.2\n",
    "ENST00000448914.1\tENSG00000228985.1\n",
    "ENST00000415118.1\tENSG00000223997.1\n",
    "ENST00000631435.1\tENSG00000282253.1\n",
    "...\n",
    "```\n",
    "\n",
    "To create the `transcript_to_gene.tsv` we fetch and parse the mouse GTF file from ensembl.\n",
    "\n",
    "The reference GTF files are available at https://uswest.ensembl.org/info/data/ftp/index.html\n",
    "\n",
    "The mouse ones which we use are at ftp://ftp.ensembl.org/pub/release-94/gtf/mus_musculus"
   ]
  },
  {
   "cell_type": "code",
   "execution_count": null,
   "metadata": {},
   "outputs": [],
   "source": [
    "#Check if the file was downloaded already before doing curl:\n",
    "if not (os.path.isfile('Mus_musculus.GRCm38.94.gtf.gz')): \n",
    "    # the `!` means we're running a command line statement (rather than python)  \n",
    "    !curl -O ftp://ftp.ensembl.org/pub/release-94/gtf/mus_musculus/Mus_musculus.GRCm38.94.gtf.gz\n",
    "else: print('Mouse GTF already downloaded!')\n",
    "    \n",
    "    \n",
    "#Check if the file was downloaded already before doing curl:\n",
    "if not (os.path.isfile('Homo_sapiens.GRCh38.94.gtf.gz')): \n",
    "    # the `!` means we're running a command line statement (rather than python)  \n",
    "    !curl -O ftp://ftp.ensembl.org/pub/release-94/gtf/homo_sapiens/Homo_sapiens.GRCh38.94.gtf.gz\n",
    "else: print('Human GTC already downloaded!')\n"
   ]
  },
  {
   "cell_type": "code",
   "execution_count": null,
   "metadata": {},
   "outputs": [],
   "source": [
    "# Unzip the files\n",
    "!gunzip -v ./Mus_musculus.GRCm38.94.gtf.gz\n",
    "!gunzip -v ./Homo_sapiens.GRCh38.94.gtf.gz"
   ]
  },
  {
   "cell_type": "code",
   "execution_count": null,
   "metadata": {},
   "outputs": [],
   "source": [
    "# concatenate the GTF files\n",
    "!cat ./Mus_musculus.GRCm38.94.gtf ./Homo_sapiens.GRCh38.94.gtf > ./human_mouse_contatenated_GTF.gtf\n",
    "print('Human and mouse GTF files concatenated!')"
   ]
  },
  {
   "cell_type": "markdown",
   "metadata": {},
   "source": [
    "## Create transcript_to_gene.tsv\n",
    "\n",
    "Now we can use the cells below to parse the GTF file and keep only the transcript mapping as a tsv file in the format below.\n",
    "```\n",
    "ENST00000632684.1\tENSG00000282431.1\n",
    "ENST00000434970.2\tENSG00000237235.2\n",
    "ENST00000448914.1\tENSG00000228985.1\n",
    "```"
   ]
  },
  {
   "cell_type": "code",
   "execution_count": null,
   "metadata": {},
   "outputs": [],
   "source": [
    "def create_transcript_list(input, use_name = True, use_version = True):\n",
    "    r = {}\n",
    "    for line in input:\n",
    "        if len(line) == 0 or line[0] == '#':\n",
    "            continue\n",
    "        l = line.strip().split('\\t')\n",
    "        if l[2] == 'transcript':\n",
    "            info = l[8]\n",
    "            d = {}\n",
    "            for x in info.split('; '):\n",
    "                x = x.strip()\n",
    "                p = x.find(' ')\n",
    "                if p == -1:\n",
    "                    continue\n",
    "                k = x[:p]\n",
    "                p = x.find('\"',p)\n",
    "                p2 = x.find('\"',p+1)\n",
    "                v = x[p+1:p2]\n",
    "                d[k] = v\n",
    "\n",
    "\n",
    "            if 'transcript_id' not in d or 'gene_id' not in d:\n",
    "                continue\n",
    "\n",
    "            tid = d['transcript_id']\n",
    "            gid = d['gene_id']\n",
    "            if use_version:\n",
    "                if 'transcript_version' not in d or 'gene_version' not in d:\n",
    "                    continue\n",
    "\n",
    "                tid += '.' + d['transcript_version']\n",
    "                gid += '.' + d['gene_version']\n",
    "            gname = None\n",
    "            if use_name:\n",
    "                if 'gene_name' not in d:\n",
    "                    continue\n",
    "                gname = d['gene_name']\n",
    "\n",
    "            if tid in r:\n",
    "                continue\n",
    "\n",
    "            r[tid] = (gid, gname)\n",
    "    return r\n",
    "\n",
    "\n",
    "\n",
    "def print_output(output, r, use_name = True):\n",
    "    for tid in r:\n",
    "        if use_name:\n",
    "            output.write(\"%s\\t%s\\t%s\\n\"%(tid, r[tid][0], r[tid][1]))\n",
    "        else:\n",
    "            output.write(\"%s\\t%s\\n\"%(tid, r[tid][0]))"
   ]
  },
  {
   "cell_type": "code",
   "execution_count": null,
   "metadata": {},
   "outputs": [],
   "source": [
    "with open('./human_mouse_contatenated_GTF.gtf') as file:\n",
    "    r = create_transcript_list(file, use_name = True, use_version = True)\n",
    "with open('human_mouse_transcript_to_gene.tsv', \"w+\") as output:\n",
    "    print_output(output, r, use_name = True)\n",
    "print('Created human_mouse_transcript_to_gene.tsv file')"
   ]
  },
  {
   "cell_type": "code",
   "execution_count": null,
   "metadata": {},
   "outputs": [],
   "source": [
    "with open('./Mus_musculus.GRCm38.94.gtf') as file:\n",
    "    r = create_transcript_list(file, use_name = True, use_version = True)\n",
    "with open('mouse_transcript_to_gene.tsv', \"w+\") as output:\n",
    "    print_output(output, r, use_name = True)\n",
    "print('Created mouse_transcript_to_gene.tsv file')"
   ]
  },
  {
   "cell_type": "code",
   "execution_count": null,
   "metadata": {},
   "outputs": [],
   "source": [
    "with open('./Homo_sapiens.GRCh38.94.gtf') as file:\n",
    "    r = create_transcript_list(file, use_name = True, use_version = True)\n",
    "with open('human_transcript_to_gene.tsv', \"w+\") as output:\n",
    "    print_output(output, r, use_name = True)\n",
    "print('Created human_transcript_to_gene.tsv file')"
   ]
  },
  {
   "cell_type": "markdown",
   "metadata": {},
   "source": [
    "# Run kallisto bus\n",
    "kallisto bus supports several single cell sequencing technologies, as you can see below. We'll be using 10xv2            "
   ]
  },
  {
   "cell_type": "code",
   "execution_count": null,
   "metadata": {},
   "outputs": [],
   "source": [
    "!kallisto bus --list"
   ]
  },
  {
   "cell_type": "markdown",
   "metadata": {},
   "source": [
    "We are using paired end reads (R1 and R2 files) with 8 samples"
   ]
  },
  {
   "cell_type": "code",
   "execution_count": null,
   "metadata": {},
   "outputs": [],
   "source": [
    "!kallisto bus -i human_mouse_transcriptome_index.idx  -o out_hgmm_6k -x 10xv2 -t 4 \\\n",
    "./fastqs/hgmm_6k_S1_L001_R1_001.fastq.gz ./fastqs/hgmm_6k_S1_L001_R2_001.fastq.gz \\\n",
    "./fastqs/hgmm_6k_S1_L002_R1_001.fastq.gz ./fastqs/hgmm_6k_S1_L002_R2_001.fastq.gz \\\n",
    "./fastqs/hgmm_6k_S1_L003_R1_001.fastq.gz ./fastqs/hgmm_6k_S1_L003_R2_001.fastq.gz \\\n",
    "./fastqs/hgmm_6k_S1_L004_R1_001.fastq.gz ./fastqs/hgmm_6k_S1_L004_R2_001.fastq.gz \\\n",
    "./fastqs/hgmm_6k_S1_L005_R1_001.fastq.gz ./fastqs/hgmm_6k_S1_L005_R2_001.fastq.gz \\\n",
    "./fastqs/hgmm_6k_S1_L006_R1_001.fastq.gz ./fastqs/hgmm_6k_S1_L006_R2_001.fastq.gz \\\n",
    "./fastqs/hgmm_6k_S1_L007_R1_001.fastq.gz ./fastqs/hgmm_6k_S1_L007_R2_001.fastq.gz \\\n",
    "./fastqs/hgmm_6k_S1_L008_R1_001.fastq.gz ./fastqs/hgmm_6k_S1_L008_R2_001.fastq.gz "
   ]
  },
  {
   "cell_type": "markdown",
   "metadata": {},
   "source": [
    "### The `matrix.ec` file\n",
    "\n",
    "The `matrix.ec` is generated by kallisto and connects the equivalence class ids to sets of transcripts. The format looks like\n",
    "~~~\n",
    "0\t0\n",
    "1\t1\n",
    "2\t2\n",
    "3\t3\n",
    "4\t4\n",
    "...\n",
    "\n",
    "884398\t26558,53383,53384,69915,69931,85319,109252,125730\n",
    "884399\t7750,35941,114698,119265\n",
    "884400\t9585,70083,92571,138545,138546\n",
    "884401\t90512,90513,134202,159456\n",
    "~~~"
   ]
  },
  {
   "cell_type": "code",
   "execution_count": null,
   "metadata": {},
   "outputs": [],
   "source": [
    "#load transcript to gene file\n",
    "tr2g = {}\n",
    "trlist = []\n",
    "with open('./human_mouse_transcript_to_gene.tsv') as f:\n",
    "    for line in f:\n",
    "        l = line.split()\n",
    "        tr2g[l[0]] = l[1]\n",
    "        trlist.append(l[0])\n",
    "\n",
    "genes = list(set(tr2g[t] for t in tr2g))\n",
    "\n",
    "# load equivalence classes\n",
    "ecs = {}\n",
    "with open('./out_hgmm_6k/matrix.ec') as f:\n",
    "    for line in f:\n",
    "        l = line.split()\n",
    "        ec = int(l[0])\n",
    "        trs = [int(x) for x in l[1].split(',')]\n",
    "        ecs[ec] = trs\n",
    "        \n",
    "def ec2g(ec):\n",
    "    if ec in ecs:\n",
    "        return list(set(tr2g[trlist[t]] for t in ecs[ec]))        \n",
    "    else:\n",
    "        return []"
   ]
  },
  {
   "cell_type": "markdown",
   "metadata": {},
   "source": [
    "### Processing the BUS file\n",
    "\n",
    "For these notebooks we will work with the text file that `BUStools` produces, rather than the raw `BUS` file. \n",
    "To install `BUStools` see https://github.com/BUStools/bustools\n",
    "\n",
    "We discard any barcodes that don't have more 10 UMIs \n",
    "\n",
    "To produce the text file, starting with the `output.bus` file produced by kallisto, we first sort it on bustools:\n",
    "```\n",
    "bustools sort -o output.sorted output.bus\n",
    "```\n",
    "Then we convert it to txt:\n",
    "```\n",
    "bustools text -o output.sorted.txt output.sorted\n",
    "```\n",
    "\n"
   ]
  },
  {
   "cell_type": "code",
   "execution_count": null,
   "metadata": {},
   "outputs": [],
   "source": [
    "#sort bus file\n",
    "!bustools sort -o ./out_hgmm_6k/output_sorted.bus ./out_hgmm_6k/output.bus"
   ]
  },
  {
   "cell_type": "code",
   "execution_count": null,
   "metadata": {},
   "outputs": [],
   "source": [
    "# convert the sorted busfile to txt\n",
    "!bustools text -o ./out_hgmm_6k/output_sorted.txt ./out_hgmm_6k/output_sorted.bus"
   ]
  },
  {
   "cell_type": "markdown",
   "metadata": {},
   "source": [
    "# Loading the generated data  "
   ]
  },
  {
   "cell_type": "code",
   "execution_count": null,
   "metadata": {},
   "outputs": [],
   "source": [
    "#load human_mouse transcripts\n",
    "\n",
    "tr2g = {}\n",
    "trlist = []\n",
    "with open('./human_mouse_transcript_to_gene.tsv') as f:\n",
    "    for line in f:\n",
    "        l = line.split()\n",
    "        tr2g[l[0]] = l[1]\n",
    "        trlist.append(l[0])\n",
    "\n",
    "genes = list(set(tr2g[t] for t in tr2g))\n",
    "\n",
    "# load equivalence classes\n",
    "ecs = {}\n",
    "with open('./out_hgmm_6k/matrix.ec') as f:\n",
    "    for line in f:\n",
    "        l = line.split()\n",
    "        ec = int(l[0])\n",
    "        trs = [int(x) for x in l[1].split(',')]\n",
    "        ecs[ec] = trs\n",
    "        \n",
    "def ec2g(ec):\n",
    "    if ec in ecs:\n",
    "        return list(set(tr2g[trlist[t]] for t in ecs[ec]))        \n",
    "    else:\n",
    "        return []"
   ]
  },
  {
   "cell_type": "code",
   "execution_count": null,
   "metadata": {},
   "outputs": [],
   "source": [
    "# load kallisto bus output dataset\n",
    "\n",
    "cell_gene = collections.defaultdict(lambda: collections.defaultdict(float))\n",
    "pbar=None\n",
    "pumi=None\n",
    "with open('./out_hgmm_6k/output_sorted.txt') as f:\n",
    "    gs = set()\n",
    "    for line in f:\n",
    "        l = line.split()\n",
    "        barcode,umi,ec,count = line.split()\n",
    "        ec = int(ec)\n",
    "        \n",
    "        if barcode == pbar:\n",
    "            # same barcode\n",
    "            if umi == pumi:\n",
    "                # same UMI, let's update with intersection of genelist\n",
    "                gl = ec2g(ec)\n",
    "                gs.intersection_update(gl)\n",
    "            else:\n",
    "                # new UMI, process the previous gene set\n",
    "                for g in gs:\n",
    "                    cell_gene[barcode][g] += 1.0/len(gs)\n",
    "                # record new umi, reset gene set\n",
    "                pumi = umi\n",
    "                gs = set(ec2g(ec))\n",
    "        else:\n",
    "            # work with previous gene list\n",
    "            for g in gs:\n",
    "                cell_gene[pbar][g] += 1.0/len(gs)\n",
    "            \n",
    "            if sum(cell_gene[pbar][g] for g in cell_gene[pbar]) < 10:\n",
    "                del cell_gene[pbar]\n",
    "            \n",
    "            pbar = barcode\n",
    "            pumi = umi\n",
    "            \n",
    "            gs = set(ec2g(ec))\n",
    "    #remember the last gene\n",
    "    for g in gs:\n",
    "        cell_gene[pbar][g] += 1.0/len(gs)\n",
    "        \n",
    "    if sum(cell_gene[pbar][g] for g in cell_gene[pbar]) < 10:\n",
    "        del cell_gene[pbar]\n",
    "\n"
   ]
  },
  {
   "cell_type": "code",
   "execution_count": null,
   "metadata": {},
   "outputs": [],
   "source": [
    "barcode_hist = collections.defaultdict(int)\n",
    "for barcode in cell_gene:\n",
    "    cg = cell_gene[barcode]\n",
    "    s = len([cg[g] for g in cg])\n",
    "    barcode_hist[barcode] += s\n",
    "    "
   ]
  },
  {
   "cell_type": "markdown",
   "metadata": {},
   "source": [
    "# Take a look at the detected barcodes and genes"
   ]
  },
  {
   "cell_type": "code",
   "execution_count": null,
   "metadata": {
    "scrolled": true
   },
   "outputs": [],
   "source": [
    "threshold = 0 # this filters the data by gene count\n",
    "bcv = [x for b,x in barcode_hist.items() if x > 0] \n",
    "_ = plt.hist(bcv,bins=100, log=True)\n",
    "plt.rcParams[\"figure.figsize\"] = [9,6]\n",
    "plt.xlabel(\"Number of gene counts\")\n",
    "plt.ylabel(\"Number of barcodes\")\n",
    "plt.grid(True)\n",
    "print(len(bcv))"
   ]
  },
  {
   "cell_type": "markdown",
   "metadata": {},
   "source": [
    "# Export count data as `.mtx`"
   ]
  },
  {
   "cell_type": "code",
   "execution_count": null,
   "metadata": {},
   "outputs": [],
   "source": [
    "outfile = './out_hgmm_6k/matrix.mtx'\n",
    "\n",
    "gene_to_id = dict((g,i+1) for i,g in enumerate(genes))\n",
    "barcodes_to_use = [b for b,x in barcode_hist.items() if x > 500  and x < 10000]\n",
    "\n",
    "num_entries = 0\n",
    "for barcode in barcodes_to_use:\n",
    "    num_entries += len([x for x in cell_gene[barcode].values() if round(x)>0])\n",
    "\n"
   ]
  },
  {
   "cell_type": "code",
   "execution_count": null,
   "metadata": {},
   "outputs": [],
   "source": [
    "with open(outfile, 'w') as of:\n",
    "    of.write('%%MatrixMarket matrix coordinate real general\\n%\\n')\n",
    "    #number of genes\n",
    "    of.write(\"%d %d %d\\n\"%(len(genes), len(barcodes_to_use), num_entries))\n",
    "    bcid = 0\n",
    "    for barcode in barcodes_to_use:\n",
    "        bcid += 1\n",
    "        cg = cell_gene[barcode]\n",
    "        gl = [(gene_to_id[g],round(cg[g])) for g in cg if round(cg[g]) > 0]\n",
    "        gl.sort()\n",
    "        for x in gl:\n",
    "            of.write(\"%d %d %d\\n\"%(x[0],bcid,x[1]))\n",
    "    "
   ]
  },
  {
   "cell_type": "code",
   "execution_count": null,
   "metadata": {},
   "outputs": [],
   "source": [
    "gene_names = {}\n",
    "with open('./human_mouse_transcript_to_gene.tsv') as f:\n",
    "    f.readline()\n",
    "    for line in f:\n",
    "        g,t,gn = line.split()\n",
    "        gene_names[g] = gn\n"
   ]
  },
  {
   "cell_type": "code",
   "execution_count": null,
   "metadata": {},
   "outputs": [],
   "source": [
    "id_to_genes = dict((i,g) for (g,i) in gene_to_id.items())\n",
    "gl = []\n",
    "for i in range(1,len(genes)+1):\n",
    "    g = id_to_genes[i]\n",
    "    gid = g[:g.find('.')]\n",
    "    if gid in gene_names:\n",
    "        gn = gene_names[gid]\n",
    "    else:\n",
    "        gn = ''\n",
    "    gl.append((g,gn))\n",
    "\n",
    "with open('./out_hgmm_6k/genes.tsv','w') as of:\n",
    "    for g,gn in gl:\n",
    "        of.write(\"%s\\t%s\\n\"%(g,gn))\n",
    "        \n",
    "with open('./out_hgmm_6k/barcodes.tsv','w') as of:\n",
    "    of.write('\\n'.join(x + '-1' for x in barcodes_to_use))\n",
    "    of.write('\\n')"
   ]
  }
 ],
 "metadata": {
  "kernelspec": {
   "display_name": "Python 3",
   "language": "python",
   "name": "python3"
  },
  "language_info": {
   "codemirror_mode": {
    "name": "ipython",
    "version": 3
   },
   "file_extension": ".py",
   "mimetype": "text/x-python",
   "name": "python",
   "nbconvert_exporter": "python",
   "pygments_lexer": "ipython3",
   "version": "3.6.6"
  }
 },
 "nbformat": 4,
 "nbformat_minor": 2
}
